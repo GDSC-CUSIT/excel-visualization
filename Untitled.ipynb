{
 "cells": [
  {
   "cell_type": "code",
   "execution_count": 103,
   "id": "4bb5e581",
   "metadata": {},
   "outputs": [],
   "source": [
    "import pandas as pd\n",
    "import json"
   ]
  },
  {
   "cell_type": "code",
   "execution_count": 128,
   "id": "29ce1c0d",
   "metadata": {},
   "outputs": [],
   "source": [
    "df = pd.read_excel(\"GDSC.xlsx\")"
   ]
  },
  {
   "cell_type": "code",
   "execution_count": 129,
   "id": "cbc2ab79",
   "metadata": {},
   "outputs": [],
   "source": [
    "df.set_index(\"University ID\", inplace=True)"
   ]
  },
  {
   "cell_type": "code",
   "execution_count": 130,
   "id": "4815cc85",
   "metadata": {},
   "outputs": [],
   "source": [
    "df.drop([\"Timestamp\"], axis=1, inplace=True)"
   ]
  },
  {
   "cell_type": "code",
   "execution_count": 131,
   "id": "038df31c",
   "metadata": {},
   "outputs": [],
   "source": [
    "try:\n",
    "    df.loc[12643]\n",
    "except Exception as e:\n",
    "    print(e.__class__)"
   ]
  },
  {
   "cell_type": "code",
   "execution_count": 118,
   "id": "807838d0",
   "metadata": {},
   "outputs": [],
   "source": [
    "df.to_csv(\"gdsc.csv\")"
   ]
  },
  {
   "cell_type": "code",
   "execution_count": 134,
   "id": "eafeb46d",
   "metadata": {},
   "outputs": [
    {
     "data": {
      "text/plain": [
       "Index(['Email', 'Name', 'Is_Sel', 'Gender', 'Phone Number', 'Semester',\n",
       "       'Program', 'Role', 'Technical Interest', 'Your programming skills',\n",
       "       'Please share your GitHub profile.', 'Non-Tech', 'portfolio',\n",
       "       'is_community', 'community_role', 'P Speaking Experience',\n",
       "       'Training/teaching Experience', 'communication skills?',\n",
       "       'Management Skills?', 'Problem Solving Skills?', 'Chapter Before',\n",
       "       'role_chapter_be', 'Motivation', 'contribution'],\n",
       "      dtype='object')"
      ]
     },
     "execution_count": 134,
     "metadata": {},
     "output_type": "execute_result"
    }
   ],
   "source": [
    "df.columns"
   ]
  },
  {
   "cell_type": "code",
   "execution_count": null,
   "id": "17431d56",
   "metadata": {},
   "outputs": [],
   "source": []
  },
  {
   "cell_type": "code",
   "execution_count": null,
   "id": "330f8684",
   "metadata": {},
   "outputs": [],
   "source": []
  }
 ],
 "metadata": {
  "kernelspec": {
   "display_name": "Python 3 (ipykernel)",
   "language": "python",
   "name": "python3"
  },
  "language_info": {
   "codemirror_mode": {
    "name": "ipython",
    "version": 3
   },
   "file_extension": ".py",
   "mimetype": "text/x-python",
   "name": "python",
   "nbconvert_exporter": "python",
   "pygments_lexer": "ipython3",
   "version": "3.9.12"
  }
 },
 "nbformat": 4,
 "nbformat_minor": 5
}
